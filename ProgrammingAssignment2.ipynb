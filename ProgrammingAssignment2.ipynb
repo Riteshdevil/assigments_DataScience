{
 "cells": [
  {
   "cell_type": "code",
   "execution_count": null,
   "id": "ccd1ec85",
   "metadata": {},
   "outputs": [],
   "source": [
    "1. Write a Python program to convert kilometers to miles?"
   ]
  },
  {
   "cell_type": "code",
   "execution_count": 3,
   "id": "0ece6a56",
   "metadata": {},
   "outputs": [
    {
     "name": "stdout",
     "output_type": "stream",
     "text": [
      "Miles for Kilometer 20 is 12.427\n"
     ]
    }
   ],
   "source": [
    "kilometer = 20\n",
    "miles  = round(kilometer * 0.62137, 3)\n",
    "print(f'Miles for Kilometer {kilometer} is {miles}')"
   ]
  },
  {
   "cell_type": "code",
   "execution_count": null,
   "id": "2f6abdfe",
   "metadata": {},
   "outputs": [],
   "source": [
    "2. Write a Python program to convert Celsius to Fahrenheit?"
   ]
  },
  {
   "cell_type": "code",
   "execution_count": 7,
   "id": "2095a6bb",
   "metadata": {},
   "outputs": [
    {
     "name": "stdout",
     "output_type": "stream",
     "text": [
      "Fahrenheit for Celcius 37 is 98.60000000000001\n"
     ]
    }
   ],
   "source": [
    "cel = 37\n",
    "far = cel * (9/5)+32\n",
    "print(f'Fahrenheit for Celcius {cel} is {far}')"
   ]
  },
  {
   "cell_type": "code",
   "execution_count": null,
   "id": "84413d1f",
   "metadata": {},
   "outputs": [],
   "source": [
    "3. Write a Python program to display calendar?"
   ]
  },
  {
   "cell_type": "code",
   "execution_count": 8,
   "id": "4282c2f3",
   "metadata": {},
   "outputs": [],
   "source": [
    "import calendar"
   ]
  },
  {
   "cell_type": "code",
   "execution_count": 10,
   "id": "879f1916",
   "metadata": {},
   "outputs": [
    {
     "name": "stdout",
     "output_type": "stream",
     "text": [
      "     March 2022\n",
      "Mo Tu We Th Fr Sa Su\n",
      "    1  2  3  4  5  6\n",
      " 7  8  9 10 11 12 13\n",
      "14 15 16 17 18 19 20\n",
      "21 22 23 24 25 26 27\n",
      "28 29 30 31\n",
      "\n"
     ]
    }
   ],
   "source": [
    "yy = 2022\n",
    "mm = 3\n",
    "print(calendar.month(yy, mm))"
   ]
  },
  {
   "cell_type": "code",
   "execution_count": null,
   "id": "08491cc0",
   "metadata": {},
   "outputs": [],
   "source": [
    "4. Write a Python program to solve quadratic equation?"
   ]
  },
  {
   "cell_type": "code",
   "execution_count": 20,
   "id": "3862b31e",
   "metadata": {},
   "outputs": [],
   "source": [
    "import math\n",
    "def findRoots(a,b,c):\n",
    "    discriminant = b*b-4*a*c\n",
    "    sqrtValue = math.sqrt(abs(discriminant))\n",
    "    if discriminant==0:\n",
    "        print('Roots are real ')\n",
    "        print(-b/2*a)\n",
    "    elif discriminant > 0:\n",
    "        print('Roots are real but different ')\n",
    "        print((-b+sqrtValue)/2*a)\n",
    "        print((-b-sqrtValue)/2*a)\n",
    "    elif discriminant < 0:\n",
    "        print('Roots are complex  ')\n",
    "        print(-b/(2*a),'+i', sqrtValue)\n",
    "        print(-b/(2*a),'-i', sqrtValue)"
   ]
  },
  {
   "cell_type": "code",
   "execution_count": 24,
   "id": "55f14484",
   "metadata": {},
   "outputs": [
    {
     "name": "stdout",
     "output_type": "stream",
     "text": [
      "Roots are complex  \n",
      "-1.0 +i 2.0\n",
      "-1.0 -i 2.0\n"
     ]
    }
   ],
   "source": [
    "findRoots(1,2,2)"
   ]
  },
  {
   "cell_type": "code",
   "execution_count": null,
   "id": "272aa398",
   "metadata": {},
   "outputs": [],
   "source": [
    "5. Write a Python program to swap two variables without temp variable?"
   ]
  },
  {
   "cell_type": "code",
   "execution_count": 25,
   "id": "e1ab0f89",
   "metadata": {},
   "outputs": [
    {
     "name": "stdout",
     "output_type": "stream",
     "text": [
      "Before swapping : 8 6\n",
      "After swapping : 6 8\n"
     ]
    }
   ],
   "source": [
    "a = 8\n",
    "b = 6\n",
    "print('Before swapping :', a, b)\n",
    "a = a+b\n",
    "b = a-b\n",
    "a = a-b\n",
    "print('After swapping :', a, b)"
   ]
  },
  {
   "cell_type": "code",
   "execution_count": null,
   "id": "55074afa",
   "metadata": {},
   "outputs": [],
   "source": []
  }
 ],
 "metadata": {
  "kernelspec": {
   "display_name": "Python 3 (ipykernel)",
   "language": "python",
   "name": "python3"
  },
  "language_info": {
   "codemirror_mode": {
    "name": "ipython",
    "version": 3
   },
   "file_extension": ".py",
   "mimetype": "text/x-python",
   "name": "python",
   "nbconvert_exporter": "python",
   "pygments_lexer": "ipython3",
   "version": "3.9.7"
  }
 },
 "nbformat": 4,
 "nbformat_minor": 5
}
