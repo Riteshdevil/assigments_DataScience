{
 "cells": [
  {
   "cell_type": "code",
   "execution_count": null,
   "id": "a88f42fa",
   "metadata": {},
   "outputs": [],
   "source": [
    "#1. Why are functions advantageous to have in your programs?\n",
    "Ans : In programming many times we have to write duplicate the codes to reduce the duplication of codes functions can be used.\n",
    "    It will reduce code and make the program easy to read shorter and maintainable in long term .\n",
    "    "
   ]
  },
  {
   "cell_type": "code",
   "execution_count": null,
   "id": "6682d0b3",
   "metadata": {},
   "outputs": [],
   "source": [
    "#2. When does the code in a function run: when it's specified or when it's called?\n",
    "Ans : Function will run when called , when function  called in program current code will be stoped and fucntion will be executed"
   ]
  },
  {
   "cell_type": "code",
   "execution_count": null,
   "id": "0d565c5c",
   "metadata": {},
   "outputs": [],
   "source": [
    "#3. What statement creates a function?\n",
    "Ans : def <functionName>() will create a fucntion with a name to be specified at the functionName specifier\n",
    "    Eg def Calculator()"
   ]
  },
  {
   "cell_type": "code",
   "execution_count": null,
   "id": "b5713544",
   "metadata": {},
   "outputs": [],
   "source": [
    "#4. What is the difference between a function and a function call?\n",
    "Ans : Function is definition ie statements or expressions which are needed to be executed muliple times\n",
    "    Function call will leave current program execution and swith to function execution and will return a value at the end to the main program\n"
   ]
  },
  {
   "cell_type": "code",
   "execution_count": 1,
   "id": "344a5233",
   "metadata": {},
   "outputs": [],
   "source": [
    "#5. How many global scopes are there in a Python program? How many local scopes?\n",
    "Ans: There can be one global scope for a variable which will get terminate after the program execution is completed and local variables have scope limited to a function , they will get created at start of funtion and terminate at the end of execution"
   ]
  },
  {
   "cell_type": "code",
   "execution_count": null,
   "id": "f8c31cc1",
   "metadata": {},
   "outputs": [],
   "source": [
    "#6. What happens to variables in a local scope when the function call returns?\n",
    "Ans : Local variables to function are created at start of function and terminate at the end and values stored in local scope variables will be returned to main program"
   ]
  },
  {
   "cell_type": "code",
   "execution_count": null,
   "id": "50aaefc7",
   "metadata": {},
   "outputs": [],
   "source": [
    "#7. What is the concept of a return value? Is it possible to have a return value in an expression?\n",
    "Ans : No it is not possible to have return value in an expession . It will return the value of expression to the caller. \n",
    "    Return statement is the end of function , expressions after return will not be executed"
   ]
  },
  {
   "cell_type": "code",
   "execution_count": null,
   "id": "6f3d91a8",
   "metadata": {},
   "outputs": [],
   "source": [
    "#8. If a function does not have a return statement, what is the return value of a call to that function?\n",
    "Ans : Function will return None if function do not have return statement"
   ]
  },
  {
   "cell_type": "code",
   "execution_count": null,
   "id": "093df4b8",
   "metadata": {},
   "outputs": [],
   "source": [
    "#9. How do you make a function variable refer to the global variable?\n",
    "Ans : global keyword can be used to refer global variable to function "
   ]
  },
  {
   "cell_type": "code",
   "execution_count": null,
   "id": "3be5b2ed",
   "metadata": {},
   "outputs": [],
   "source": [
    "#10. What is the data type of None?\n",
    "Ans : NoneType"
   ]
  },
  {
   "cell_type": "code",
   "execution_count": null,
   "id": "63adc4d3",
   "metadata": {},
   "outputs": [],
   "source": [
    "#11. What does the sentence import areallyourpetsnamederic do?\n",
    "Ans : It will import the module areallyourpetsnamederic globally so that we can use functions and classed into our program"
   ]
  },
  {
   "cell_type": "code",
   "execution_count": null,
   "id": "bf3cc2eb",
   "metadata": {},
   "outputs": [],
   "source": [
    "#12. If you had a bacon() feature in a spam module, what would you call it after importing spam?\n",
    "Ans : spam.bacon()"
   ]
  },
  {
   "cell_type": "code",
   "execution_count": null,
   "id": "f13e0afd",
   "metadata": {},
   "outputs": [],
   "source": [
    "#13. What can you do to save a programme from crashing if it encounters an error?\n",
    "Ans : We can implement error handling in an program so that program will not crashed unexpectedly/\n",
    "    so we can use Exception handling to implement the same."
   ]
  },
  {
   "cell_type": "code",
   "execution_count": null,
   "id": "21fe2b92",
   "metadata": {},
   "outputs": [],
   "source": [
    "#14. What is the purpose of the try clause? What is the purpose of the except clause?\n",
    "Ans : Try block allows us to execute the block of code and if any error reported the except block can handle the exception \n",
    "    with inbult exception classes or user can define there own Exception class "
   ]
  }
 ],
 "metadata": {
  "kernelspec": {
   "display_name": "Python 3 (ipykernel)",
   "language": "python",
   "name": "python3"
  },
  "language_info": {
   "codemirror_mode": {
    "name": "ipython",
    "version": 3
   },
   "file_extension": ".py",
   "mimetype": "text/x-python",
   "name": "python",
   "nbconvert_exporter": "python",
   "pygments_lexer": "ipython3",
   "version": "3.9.7"
  }
 },
 "nbformat": 4,
 "nbformat_minor": 5
}
