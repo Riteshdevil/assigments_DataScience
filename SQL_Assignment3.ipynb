{
 "cells": [
  {
   "cell_type": "code",
   "execution_count": null,
   "id": "7872ab07",
   "metadata": {},
   "outputs": [],
   "source": [
    "#Q-1. Write an SQL query to print the FIRST_NAME from Worker table after removing\n",
    "white spaces from the right side."
   ]
  },
  {
   "cell_type": "code",
   "execution_count": null,
   "id": "307f57fc",
   "metadata": {},
   "outputs": [],
   "source": [
    "SELECT RTRIM(FIRST_NAME) FROM WORKER"
   ]
  },
  {
   "cell_type": "code",
   "execution_count": null,
   "id": "9f7c7396",
   "metadata": {},
   "outputs": [],
   "source": [
    "#Q-2. Write an SQL query that fetches the unique values of DEPARTMENT from Worker\n",
    "table and prints its length."
   ]
  },
  {
   "cell_type": "code",
   "execution_count": null,
   "id": "a9894e82",
   "metadata": {},
   "outputs": [],
   "source": [
    "SELECT DISTINCT DEPARTMENT, length(DEPARTMENT) as LENGTH from Worker "
   ]
  },
  {
   "cell_type": "code",
   "execution_count": null,
   "id": "ac417fbd",
   "metadata": {},
   "outputs": [],
   "source": [
    "#Q-3. Write an SQL query to fetch nth max salaries from a table."
   ]
  },
  {
   "cell_type": "code",
   "execution_count": null,
   "id": "678ea48c",
   "metadata": {},
   "outputs": [],
   "source": [
    "\n",
    "SELECT * FROM (SELECT name, salary,rank() over (order by salary desc) r from Worker) as var where r = 1"
   ]
  }
 ],
 "metadata": {
  "kernelspec": {
   "display_name": "Python 3 (ipykernel)",
   "language": "python",
   "name": "python3"
  },
  "language_info": {
   "codemirror_mode": {
    "name": "ipython",
    "version": 3
   },
   "file_extension": ".py",
   "mimetype": "text/x-python",
   "name": "python",
   "nbconvert_exporter": "python",
   "pygments_lexer": "ipython3",
   "version": "3.9.7"
  }
 },
 "nbformat": 4,
 "nbformat_minor": 5
}
