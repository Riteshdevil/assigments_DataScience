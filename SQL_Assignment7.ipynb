{
 "cells": [
  {
   "cell_type": "code",
   "execution_count": null,
   "id": "1f3fa50a",
   "metadata": {},
   "outputs": [],
   "source": [
    "#Q-13. Write an SQL query to show only odd rows from a table."
   ]
  },
  {
   "cell_type": "code",
   "execution_count": null,
   "id": "7c50dba6",
   "metadata": {},
   "outputs": [],
   "source": [
    "select * from (select id, fullname,row_number() over (order by id desc) as number_row from emp) as t where t.number_row%2=1;"
   ]
  },
  {
   "cell_type": "code",
   "execution_count": null,
   "id": "cb37abcf",
   "metadata": {},
   "outputs": [],
   "source": [
    "#Q-14. Write an SQL query to clone a new table from another table."
   ]
  },
  {
   "cell_type": "code",
   "execution_count": null,
   "id": "91c3cb60",
   "metadata": {},
   "outputs": [],
   "source": [
    "create table emp_2 select * from emp;"
   ]
  }
 ],
 "metadata": {
  "kernelspec": {
   "display_name": "Python 3 (ipykernel)",
   "language": "python",
   "name": "python3"
  },
  "language_info": {
   "codemirror_mode": {
    "name": "ipython",
    "version": 3
   },
   "file_extension": ".py",
   "mimetype": "text/x-python",
   "name": "python",
   "nbconvert_exporter": "python",
   "pygments_lexer": "ipython3",
   "version": "3.9.7"
  }
 },
 "nbformat": 4,
 "nbformat_minor": 5
}
