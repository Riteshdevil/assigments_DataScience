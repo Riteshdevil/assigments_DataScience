{
 "cells": [
  {
   "cell_type": "code",
   "execution_count": null,
   "id": "97e9c4e8",
   "metadata": {},
   "outputs": [],
   "source": [
    "#Q-1. Write an SQL query to print the FIRST_NAME from Worker table after replacing ‘a’\n",
    "with ‘A’."
   ]
  },
  {
   "cell_type": "code",
   "execution_count": null,
   "id": "b3ef9ce1",
   "metadata": {},
   "outputs": [],
   "source": [
    "SELECT REPLACE(FIRST_NAME , 'a','A') from  WORKER"
   ]
  },
  {
   "cell_type": "code",
   "execution_count": null,
   "id": "8e6b2d1b",
   "metadata": {},
   "outputs": [],
   "source": [
    "#Q-2. Write an SQL query to print all Worker details from the Worker table order by\n",
    "FIRST_NAME Ascending and DEPARTMENT Descending."
   ]
  },
  {
   "cell_type": "code",
   "execution_count": null,
   "id": "66fa16a3",
   "metadata": {},
   "outputs": [],
   "source": [
    "SELECT * from WORKER ORDER BY FIRST_NAME ASC , DEPARTMENT DESC"
   ]
  },
  {
   "cell_type": "code",
   "execution_count": null,
   "id": "2cfec324",
   "metadata": {},
   "outputs": [],
   "source": [
    "#Q-3. Write an SQL query to fetch the names of workers who earn the highest salary."
   ]
  },
  {
   "cell_type": "code",
   "execution_count": null,
   "id": "442e77c2",
   "metadata": {},
   "outputs": [],
   "source": [
    "SELECT FIRST_NAME from WORKER where SALARY IN (SELECT MAX(salary) from WORKER GROUP BY DEPARTMENT)"
   ]
  }
 ],
 "metadata": {
  "kernelspec": {
   "display_name": "Python 3 (ipykernel)",
   "language": "python",
   "name": "python3"
  },
  "language_info": {
   "codemirror_mode": {
    "name": "ipython",
    "version": 3
   },
   "file_extension": ".py",
   "mimetype": "text/x-python",
   "name": "python",
   "nbconvert_exporter": "python",
   "pygments_lexer": "ipython3",
   "version": "3.9.7"
  }
 },
 "nbformat": 4,
 "nbformat_minor": 5
}
