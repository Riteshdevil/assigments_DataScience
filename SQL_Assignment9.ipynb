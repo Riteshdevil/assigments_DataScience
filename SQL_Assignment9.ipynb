{
 "cells": [
  {
   "cell_type": "code",
   "execution_count": null,
   "id": "467627a7",
   "metadata": {},
   "outputs": [],
   "source": [
    "#Q-17. Write an SQL query to show the top n (say 10) records of a table."
   ]
  },
  {
   "cell_type": "code",
   "execution_count": null,
   "id": "6116c02e",
   "metadata": {},
   "outputs": [],
   "source": [
    "SELECT * FROM Worker order by salary limit 10;"
   ]
  },
  {
   "cell_type": "code",
   "execution_count": null,
   "id": "a571ca5c",
   "metadata": {},
   "outputs": [],
   "source": [
    "#Q-18. Write an SQL query to determine the nth (say n=5) highest salary from a table."
   ]
  },
  {
   "cell_type": "code",
   "execution_count": null,
   "id": "992aa0f0",
   "metadata": {},
   "outputs": [],
   "source": [
    "select * from (select First_Name, Salary , rank() over (order by Salary desc) r from Worker ) as t where t.r = 5;"
   ]
  }
 ],
 "metadata": {
  "kernelspec": {
   "display_name": "Python 3 (ipykernel)",
   "language": "python",
   "name": "python3"
  },
  "language_info": {
   "codemirror_mode": {
    "name": "ipython",
    "version": 3
   },
   "file_extension": ".py",
   "mimetype": "text/x-python",
   "name": "python",
   "nbconvert_exporter": "python",
   "pygments_lexer": "ipython3",
   "version": "3.9.7"
  }
 },
 "nbformat": 4,
 "nbformat_minor": 5
}
