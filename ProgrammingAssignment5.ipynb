{
 "cells": [
  {
   "cell_type": "code",
   "execution_count": null,
   "id": "fcf71270",
   "metadata": {},
   "outputs": [],
   "source": [
    "#1. Write a Python Program to Find LCM?\n",
    "def findLCM(num1 , num2):\n",
    "    greater = 0\n",
    "    if num1 > num2 :\n",
    "        greater = num1\n",
    "    else :\n",
    "        greater = num2\n",
    "    \n",
    "    while True:\n",
    "        if (greater % num1 == 0) and (greater % num2 == 0):\n",
    "            lcm = greater\n",
    "            break\n",
    "        greater+= 1\n",
    "    return lcm"
   ]
  },
  {
   "cell_type": "code",
   "execution_count": null,
   "id": "f748d3b8",
   "metadata": {},
   "outputs": [],
   "source": [
    "findLCM(54,24)"
   ]
  },
  {
   "cell_type": "code",
   "execution_count": null,
   "id": "0b0e70ca",
   "metadata": {},
   "outputs": [],
   "source": [
    "#2. Write a Python Program to Find HCF?\n",
    "def findHCF(num1, num2):\n",
    "    smaller = 0\n",
    "    if num1 < num2:\n",
    "        smaller = num1\n",
    "    else:\n",
    "        smaller = num2\n",
    "    \n",
    "    for i in range(1, smaller+1):\n",
    "        if (num1 % i == 0) and (num2%i == 0):\n",
    "            hcf=i\n",
    "    return hcf"
   ]
  },
  {
   "cell_type": "code",
   "execution_count": null,
   "id": "9e68a419",
   "metadata": {},
   "outputs": [],
   "source": [
    "findHCF(360, 198)"
   ]
  },
  {
   "cell_type": "code",
   "execution_count": null,
   "id": "a0e1ced0",
   "metadata": {},
   "outputs": [],
   "source": [
    "#3. Write a Python Program to Convert Decimal to Binary, Octal and Hexadecimal?\n",
    "def DecimalToBinary(num1):\n",
    "    #print(num1)\n",
    "    if num1 >= 1:\n",
    "        DecimalToBinary(num1//2)\n",
    "        print(num1%2)\n",
    "\n"
   ]
  },
  {
   "cell_type": "code",
   "execution_count": null,
   "id": "d2e8fb79",
   "metadata": {},
   "outputs": [],
   "source": [
    "DecimalToBinary(7)"
   ]
  },
  {
   "cell_type": "code",
   "execution_count": null,
   "id": "7936af00",
   "metadata": {},
   "outputs": [],
   "source": [
    "#4. Write a Python Program To Find ASCII value of a character?\n",
    "def getASCII(ch):\n",
    "    return ord(ch)"
   ]
  },
  {
   "cell_type": "code",
   "execution_count": null,
   "id": "65a71f17",
   "metadata": {},
   "outputs": [],
   "source": [
    "getASCII('d')"
   ]
  },
  {
   "cell_type": "code",
   "execution_count": 4,
   "id": "332c06b4",
   "metadata": {},
   "outputs": [],
   "source": [
    "#5. Write a Python Program to Make a Simple Calculator with 4 basic mathematical operations?\n",
    "def Calculator(choice, *args):\n",
    "    result = 0\n",
    "    if choice == 1:\n",
    "        #for choice 1 operation is Addition\n",
    "        for i in args[0]:\n",
    "            result = result + i\n",
    "            \n",
    "    if choice == 2:\n",
    "        #for choice 2 operation is Substraction\n",
    "        #print(args[0])\n",
    "        result = args[0][0]\n",
    "        \"\"\"print(result)\n",
    "        print(args[0][1:])\"\"\"\n",
    "        for i in args[0][1:]:\n",
    "            result = result - i\n",
    "            print(result)\n",
    "            \n",
    "    if choice == 3:\n",
    "       # print(args[0], ' ', args[1])\n",
    "        #for choice 3 operation is Division\n",
    "        result = args[0] / args[1]\n",
    "            \n",
    "    if choice == 4:\n",
    "        #for choice 4 operation is Multiplication\n",
    "        result = 1\n",
    "        for i in args[0]:\n",
    "            result = result * i\n",
    "            \n",
    "    return result"
   ]
  },
  {
   "cell_type": "code",
   "execution_count": 7,
   "id": "cccbbf77",
   "metadata": {},
   "outputs": [],
   "source": [
    "def mainMethod():\n",
    "    try:\n",
    "        choice = int(input('Enter choice\\n 1. Addition \\n 2. Substraction \\n 3. Division \\n 4. Multiplication\\n'))\n",
    "        if choice == 1 or choice == 2 or choice == 4:\n",
    "            l = []\n",
    "            num = 0\n",
    "            while num!=-1:\n",
    "                print('Please enter numbers | Enter -1 to exit')\n",
    "                num = int(input())\n",
    "                if num == -1:\n",
    "                    print('Thank you using calculator . You have entered -1')\n",
    "                    break\n",
    "                l.append(num)\n",
    "\n",
    "            result = Calculator(choice, l)\n",
    "            print('Result :', result)\n",
    "\n",
    "        elif choice == 3:\n",
    "            num1 = int(input('Enter Dividend 1'))\n",
    "            num2 = int(input('Enter Divisor 2'))\n",
    "            result = Calculator(choice, num1, num2)\n",
    "            print('Result : ', result)\n",
    "        \n",
    "    except Exception as e:\n",
    "        print('Exception occured ', e)\n"
   ]
  },
  {
   "cell_type": "code",
   "execution_count": 8,
   "id": "227e44df",
   "metadata": {},
   "outputs": [
    {
     "name": "stdout",
     "output_type": "stream",
     "text": [
      "Enter choice\n",
      " 1. Addition \n",
      " 2. Substraction \n",
      " 3. Division \n",
      " 4. Multiplication\n",
      "ui\n",
      "Exception occured  invalid literal for int() with base 10: 'ui'\n"
     ]
    }
   ],
   "source": [
    "mainMethod()"
   ]
  },
  {
   "cell_type": "markdown",
   "id": "1fdf49a9",
   "metadata": {},
   "source": []
  },
  {
   "cell_type": "code",
   "execution_count": null,
   "id": "43567afb",
   "metadata": {},
   "outputs": [],
   "source": []
  }
 ],
 "metadata": {
  "kernelspec": {
   "display_name": "Python 3 (ipykernel)",
   "language": "python",
   "name": "python3"
  },
  "language_info": {
   "codemirror_mode": {
    "name": "ipython",
    "version": 3
   },
   "file_extension": ".py",
   "mimetype": "text/x-python",
   "name": "python",
   "nbconvert_exporter": "python",
   "pygments_lexer": "ipython3",
   "version": "3.9.7"
  }
 },
 "nbformat": 4,
 "nbformat_minor": 5
}
