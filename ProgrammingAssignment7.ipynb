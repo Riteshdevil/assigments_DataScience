{
 "cells": [
  {
   "cell_type": "raw",
   "id": "355b4756",
   "metadata": {},
   "source": [
    "1. Write a Python Program to find sum of array?"
   ]
  },
  {
   "cell_type": "code",
   "execution_count": 2,
   "id": "7009b430",
   "metadata": {},
   "outputs": [],
   "source": [
    "def SumOfArray(l):\n",
    "    result = 0\n",
    "    for i in l:\n",
    "        result += i\n",
    "    return result"
   ]
  },
  {
   "cell_type": "code",
   "execution_count": 3,
   "id": "278bb160",
   "metadata": {},
   "outputs": [
    {
     "data": {
      "text/plain": [
       "28"
      ]
     },
     "execution_count": 3,
     "metadata": {},
     "output_type": "execute_result"
    }
   ],
   "source": [
    "SumOfArray([1,2,3,4,5,6,7])"
   ]
  },
  {
   "cell_type": "raw",
   "id": "3bc6e125",
   "metadata": {},
   "source": [
    "2. Write a Python Program to find largest element in an array?"
   ]
  },
  {
   "cell_type": "code",
   "execution_count": 4,
   "id": "2b2da62b",
   "metadata": {},
   "outputs": [],
   "source": [
    "def findLargetsNumber(l):\n",
    "    max = l[0]\n",
    "    for i in l:\n",
    "        if i > max:\n",
    "            max = i\n",
    "    return max"
   ]
  },
  {
   "cell_type": "code",
   "execution_count": 5,
   "id": "f432becb",
   "metadata": {},
   "outputs": [
    {
     "data": {
      "text/plain": [
       "100"
      ]
     },
     "execution_count": 5,
     "metadata": {},
     "output_type": "execute_result"
    }
   ],
   "source": [
    "findLargetsNumber([2,4,5,7,90,100])"
   ]
  },
  {
   "cell_type": "raw",
   "id": "8f829487",
   "metadata": {},
   "source": [
    "3. Write a Python Program for array rotation?"
   ]
  },
  {
   "cell_type": "code",
   "execution_count": 32,
   "id": "0e8e255e",
   "metadata": {},
   "outputs": [],
   "source": [
    "def RotateArray(arr, d):\n",
    "    temp = []\n",
    "    temp = arr[d:]\n",
    "    n = len(arr) - d\n",
    "    for i in arr[:-n]:\n",
    "        temp.append(i)\n",
    "    print(temp)\n"
   ]
  },
  {
   "cell_type": "code",
   "execution_count": 34,
   "id": "e538af65",
   "metadata": {},
   "outputs": [
    {
     "name": "stdout",
     "output_type": "stream",
     "text": [
      "[7, 8, 9, 1, 2, 4, 6, 7, 8, 8, 5, 3, 1, 2, 3, 4, 5, 6, 4, 5, 6, 6]\n"
     ]
    }
   ],
   "source": [
    "RotateArray([1,2,3,4,5,6,4,5,6,6,7,8,9,1,2,4,6,7,8,8,5,3],10)"
   ]
  },
  {
   "cell_type": "raw",
   "id": "bc040e0e",
   "metadata": {},
   "source": [
    "4. Write a Python Program to Split the array and add the first part to the end?"
   ]
  },
  {
   "cell_type": "code",
   "execution_count": 46,
   "id": "da90c9ee",
   "metadata": {},
   "outputs": [],
   "source": [
    "def SplitArray(arr , k):\n",
    "    n = len(arr)\n",
    "    \n",
    "    for i in range(0, k):\n",
    "        n1 = arr[0]\n",
    "        for j in range(0, n-1):\n",
    "            arr[j] = arr[j+1]\n",
    "        arr[n-1] = n1\n",
    "    return arr\n",
    "    "
   ]
  },
  {
   "cell_type": "code",
   "execution_count": 47,
   "id": "bf2fb3d9",
   "metadata": {},
   "outputs": [
    {
     "name": "stdout",
     "output_type": "stream",
     "text": [
      "Enter number to split2\n"
     ]
    },
    {
     "data": {
      "text/plain": [
       "[3, 4, 6, 1, 2]"
      ]
     },
     "execution_count": 47,
     "metadata": {},
     "output_type": "execute_result"
    }
   ],
   "source": [
    "num = int(input('Enter number to split'))\n",
    "SplitArray([1,2,3,4,6],num)"
   ]
  },
  {
   "cell_type": "raw",
   "id": "f184b069",
   "metadata": {},
   "source": [
    "5. Write a Python Program to check if given array is Monotonic?"
   ]
  },
  {
   "cell_type": "code",
   "execution_count": 49,
   "id": "bafeee29",
   "metadata": {},
   "outputs": [],
   "source": [
    "def checkMonotonic(arr):\n",
    "    return all(arr[i]>=arr[i+1] for i in range(0,len(arr)-1)) or all(arr[i]<=arr[i+1] for i in range(0,len(arr)-1))"
   ]
  },
  {
   "cell_type": "code",
   "execution_count": 53,
   "id": "9e95a958",
   "metadata": {},
   "outputs": [
    {
     "name": "stdout",
     "output_type": "stream",
     "text": [
      "Given array is not Monotonic\n"
     ]
    }
   ],
   "source": [
    "if checkMonotonic([1,2,9,4,5]):\n",
    "    print('Given array is Monotonic')\n",
    "else:\n",
    "    print('Given array is not Monotonic')"
   ]
  },
  {
   "cell_type": "code",
   "execution_count": null,
   "id": "8b3e690f",
   "metadata": {},
   "outputs": [],
   "source": []
  },
  {
   "cell_type": "code",
   "execution_count": null,
   "id": "22b23de7",
   "metadata": {},
   "outputs": [],
   "source": []
  }
 ],
 "metadata": {
  "kernelspec": {
   "display_name": "Python 3 (ipykernel)",
   "language": "python",
   "name": "python3"
  },
  "language_info": {
   "codemirror_mode": {
    "name": "ipython",
    "version": 3
   },
   "file_extension": ".py",
   "mimetype": "text/x-python",
   "name": "python",
   "nbconvert_exporter": "python",
   "pygments_lexer": "ipython3",
   "version": "3.9.7"
  }
 },
 "nbformat": 4,
 "nbformat_minor": 5
}
