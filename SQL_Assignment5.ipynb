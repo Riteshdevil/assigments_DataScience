{
 "cells": [
  {
   "cell_type": "code",
   "execution_count": null,
   "id": "d4ae54e1",
   "metadata": {},
   "outputs": [],
   "source": [
    "#Q-1. Write an SQL query to print details of workers excluding first names, “Vipul” and\n",
    "“Satish” from Worker table."
   ]
  },
  {
   "cell_type": "code",
   "execution_count": null,
   "id": "5f1d2030",
   "metadata": {},
   "outputs": [],
   "source": [
    "SELECT * FROM WORKER WHERE First_Name not in ('Vipul', 'Satish')"
   ]
  },
  {
   "cell_type": "code",
   "execution_count": null,
   "id": "8246e26b",
   "metadata": {},
   "outputs": [],
   "source": [
    "#Q-2. Write an SQL query to print details of the Workers whose FIRST_NAME ends with\n",
    "‘h’ and contains six alphabets."
   ]
  },
  {
   "cell_type": "code",
   "execution_count": null,
   "id": "4284d192",
   "metadata": {},
   "outputs": [],
   "source": [
    "SELECT * FROM Worker WHERE FIRST_NAME like '_____h'"
   ]
  },
  {
   "cell_type": "code",
   "execution_count": null,
   "id": "0fd053e6",
   "metadata": {},
   "outputs": [],
   "source": [
    "#Q-3. Write a query to validate Email of Employee."
   ]
  },
  {
   "cell_type": "code",
   "execution_count": null,
   "id": "15edce9b",
   "metadata": {},
   "outputs": [],
   "source": [
    "SELECT * FROM Worker where EMAIL LIKE '%@gmail.com'"
   ]
  }
 ],
 "metadata": {
  "kernelspec": {
   "display_name": "Python 3 (ipykernel)",
   "language": "python",
   "name": "python3"
  },
  "language_info": {
   "codemirror_mode": {
    "name": "ipython",
    "version": 3
   },
   "file_extension": ".py",
   "mimetype": "text/x-python",
   "name": "python",
   "nbconvert_exporter": "python",
   "pygments_lexer": "ipython3",
   "version": "3.9.7"
  }
 },
 "nbformat": 4,
 "nbformat_minor": 5
}
