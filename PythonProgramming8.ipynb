{
 "cells": [
  {
   "cell_type": "code",
   "execution_count": null,
   "id": "7dc751ff",
   "metadata": {},
   "outputs": [],
   "source": [
    "#1. Write a Python Program to Add Two Matrices?"
   ]
  },
  {
   "cell_type": "code",
   "execution_count": 11,
   "id": "7fa2360a",
   "metadata": {},
   "outputs": [],
   "source": [
    "def AddMatrices(matrix1 , matrix2):\n",
    "    result = [[0,0,0],\n",
    "              [0,0,0],\n",
    "              [0,0,0]]\n",
    "    for i in range(len(matrix1)):\n",
    "        for j in range(len(matrix1[0])):\n",
    "            result[i][j] = matrix1[i][j] + matrix2[i][j]\n",
    "    return result"
   ]
  },
  {
   "cell_type": "code",
   "execution_count": 12,
   "id": "34b4c043",
   "metadata": {},
   "outputs": [
    {
     "name": "stdout",
     "output_type": "stream",
     "text": [
      "[2, 4, 6]\n",
      "[8, 10, 12]\n",
      "[14, 16, 18]\n"
     ]
    }
   ],
   "source": [
    "matrix1 = [[1,2,3],\n",
    "          [4,5,6],\n",
    "          [7,8,9]]\n",
    "\n",
    "matrix2 = [[1,2,3],\n",
    "          [4,5,6],\n",
    "          [7,8,9]]\n",
    "result = AddMatrices(matrix1, matrix2)\n",
    "for i in result:\n",
    "    print(i)"
   ]
  },
  {
   "cell_type": "code",
   "execution_count": null,
   "id": "dd8e650b",
   "metadata": {},
   "outputs": [],
   "source": [
    "#2. Write a Python Program to Multiply Two Matrices?"
   ]
  },
  {
   "cell_type": "code",
   "execution_count": 44,
   "id": "b877402c",
   "metadata": {},
   "outputs": [],
   "source": [
    "import  numpy as np\n",
    "def MultiplyMatrix(matrix1, matrix2):\n",
    "    n = len(matrix1)\n",
    "    m = len(matrix2[0])\n",
    "    print(m,' ', m)\n",
    "    result = np.zeros([n,m], dtype=int)\n",
    "    for i in range(len(matrix1)):\n",
    "        for j in range(len(matrix2[0])):\n",
    "            for k in range(len(matrix2)):\n",
    "                result[i][j]+=matrix1[i][k]*matrix2[k][j]\n",
    "    return result"
   ]
  },
  {
   "cell_type": "code",
   "execution_count": 45,
   "id": "1a3c886b",
   "metadata": {},
   "outputs": [
    {
     "name": "stdout",
     "output_type": "stream",
     "text": [
      "3   3\n"
     ]
    },
    {
     "data": {
      "text/plain": [
       "array([[ 30,  36,  42],\n",
       "       [ 66,  81,  96],\n",
       "       [102, 126, 150]])"
      ]
     },
     "execution_count": 45,
     "metadata": {},
     "output_type": "execute_result"
    }
   ],
   "source": [
    "matrix1 = [[1,2,3],\n",
    "          [4,5,6],\n",
    "          [7,8,9]]\n",
    "matrix2 = [[1,2,3],\n",
    "          [4,5,6],\n",
    "          [7,8,9]]\n",
    "MultiplyMatrix(matrix1 , matrix2)"
   ]
  },
  {
   "cell_type": "code",
   "execution_count": null,
   "id": "9fecb055",
   "metadata": {},
   "outputs": [],
   "source": [
    "#3. Write a Python Program to Transpose a Matrix?"
   ]
  },
  {
   "cell_type": "code",
   "execution_count": 65,
   "id": "a2c69f81",
   "metadata": {},
   "outputs": [],
   "source": [
    "import numpy as np\n",
    "def TransposeMatrix(matrix1):\n",
    "    result = np.zeros([len(matrix1[0]), len(matrix1)], dtype = int)\n",
    "    print(result)\n",
    "    for i in range(len(matrix1)):\n",
    "        for j in range(len(matrix1[0])):\n",
    "            result[j][i] = matrix1[i][j]\n",
    "    \n",
    "    return result"
   ]
  },
  {
   "cell_type": "code",
   "execution_count": 66,
   "id": "63c2d694",
   "metadata": {},
   "outputs": [
    {
     "name": "stdout",
     "output_type": "stream",
     "text": [
      "[[0 0 0]\n",
      " [0 0 0]]\n"
     ]
    },
    {
     "data": {
      "text/plain": [
       "array([[1, 4, 7],\n",
       "       [2, 5, 8]])"
      ]
     },
     "execution_count": 66,
     "metadata": {},
     "output_type": "execute_result"
    }
   ],
   "source": [
    "matrix = [[1,2],\n",
    "          [4,5],\n",
    "          [7,8]]\n",
    "TransposeMatrix(matrix)"
   ]
  },
  {
   "cell_type": "code",
   "execution_count": null,
   "id": "025c791d",
   "metadata": {},
   "outputs": [],
   "source": [
    "#4. Write a Python Program to Sort Words in Alphabetic Order?"
   ]
  },
  {
   "cell_type": "code",
   "execution_count": 71,
   "id": "4a7fc128",
   "metadata": {},
   "outputs": [],
   "source": [
    "def SortWords(s):\n",
    "    s = s.lower()\n",
    "    w = s.split(' ')\n",
    "    w.sort()\n",
    "    return w"
   ]
  },
  {
   "cell_type": "code",
   "execution_count": 72,
   "id": "f02b8072",
   "metadata": {},
   "outputs": [
    {
     "data": {
      "text/plain": [
       "['hi', 'is', 'my', 'name', 'ritesh', 'shirude']"
      ]
     },
     "execution_count": 72,
     "metadata": {},
     "output_type": "execute_result"
    }
   ],
   "source": [
    "SortWords('Hi my name is Ritesh Shirude')"
   ]
  },
  {
   "cell_type": "code",
   "execution_count": null,
   "id": "a851cb6d",
   "metadata": {},
   "outputs": [],
   "source": [
    "#5. Write a Python Program to Remove Punctuation From a String?"
   ]
  },
  {
   "cell_type": "code",
   "execution_count": 89,
   "id": "947b6064",
   "metadata": {},
   "outputs": [],
   "source": [
    "def RemovePunctuation(s):\n",
    "    punct = '''!'''\n",
    "    newS = ''\n",
    "    for i in s:\n",
    "        if i not in punct:\n",
    "            newS += i \n",
    "    return newS"
   ]
  },
  {
   "cell_type": "code",
   "execution_count": 90,
   "id": "57cb4fdd",
   "metadata": {},
   "outputs": [
    {
     "data": {
      "text/plain": [
       "'Hi  my name is Ritesh Shirude '"
      ]
     },
     "execution_count": 90,
     "metadata": {},
     "output_type": "execute_result"
    }
   ],
   "source": [
    "RemovePunctuation('Hi ! my name is Ritesh Shirude !')"
   ]
  },
  {
   "cell_type": "code",
   "execution_count": null,
   "id": "3906ae38",
   "metadata": {},
   "outputs": [],
   "source": []
  }
 ],
 "metadata": {
  "kernelspec": {
   "display_name": "Python 3 (ipykernel)",
   "language": "python",
   "name": "python3"
  },
  "language_info": {
   "codemirror_mode": {
    "name": "ipython",
    "version": 3
   },
   "file_extension": ".py",
   "mimetype": "text/x-python",
   "name": "python",
   "nbconvert_exporter": "python",
   "pygments_lexer": "ipython3",
   "version": "3.9.7"
  }
 },
 "nbformat": 4,
 "nbformat_minor": 5
}
