{
 "cells": [
  {
   "cell_type": "code",
   "execution_count": null,
   "id": "9733adcb",
   "metadata": {},
   "outputs": [],
   "source": [
    "1. Write a Python Program to Find the Factorial of a Number?"
   ]
  },
  {
   "cell_type": "code",
   "execution_count": 1,
   "id": "039f8300",
   "metadata": {},
   "outputs": [],
   "source": [
    "def factorial(num):\n",
    "    if num == 1 or num == 0:\n",
    "        return 1\n",
    "    else:\n",
    "        return num * factorial(num - 1)"
   ]
  },
  {
   "cell_type": "code",
   "execution_count": 3,
   "id": "73ec44ac",
   "metadata": {},
   "outputs": [
    {
     "data": {
      "text/plain": [
       "120"
      ]
     },
     "execution_count": 3,
     "metadata": {},
     "output_type": "execute_result"
    }
   ],
   "source": [
    "factorial(5)"
   ]
  },
  {
   "cell_type": "code",
   "execution_count": null,
   "id": "64334186",
   "metadata": {},
   "outputs": [],
   "source": [
    "2. Write a Python Program to Display the multiplication Table?"
   ]
  },
  {
   "cell_type": "code",
   "execution_count": 7,
   "id": "d25d6c65",
   "metadata": {},
   "outputs": [],
   "source": [
    "def multiplicationTable(num):\n",
    "    for i in range(1, 11):\n",
    "        print(num, ' * ', i , ' = ', num*i)"
   ]
  },
  {
   "cell_type": "code",
   "execution_count": 8,
   "id": "01edc3cc",
   "metadata": {},
   "outputs": [
    {
     "name": "stdout",
     "output_type": "stream",
     "text": [
      "7  *  1  =  7\n",
      "7  *  2  =  14\n",
      "7  *  3  =  21\n",
      "7  *  4  =  28\n",
      "7  *  5  =  35\n",
      "7  *  6  =  42\n",
      "7  *  7  =  49\n",
      "7  *  8  =  56\n",
      "7  *  9  =  63\n",
      "7  *  10  =  70\n"
     ]
    }
   ],
   "source": [
    "multiplicationTable(7)"
   ]
  },
  {
   "cell_type": "code",
   "execution_count": null,
   "id": "43e2f261",
   "metadata": {},
   "outputs": [],
   "source": [
    "3. Write a Python Program to Print the Fibonacci sequence?"
   ]
  },
  {
   "cell_type": "code",
   "execution_count": 14,
   "id": "89103291",
   "metadata": {},
   "outputs": [],
   "source": [
    "def fibonacci(num):\n",
    "    a=0\n",
    "    b=1\n",
    "    count=0\n",
    "    if num<=0:\n",
    "        print('Please enter positive number')\n",
    "    elif num==1:\n",
    "        print(f'Fibonacci series till {num}', num)\n",
    "    else:\n",
    "        print('Fibonacci series :')\n",
    "        while count < num:\n",
    "            print(a)\n",
    "            c = a+b\n",
    "            a = b\n",
    "            b = c\n",
    "            count += 1"
   ]
  },
  {
   "cell_type": "code",
   "execution_count": 17,
   "id": "13982778",
   "metadata": {},
   "outputs": [
    {
     "name": "stdout",
     "output_type": "stream",
     "text": [
      "Fibonacci series :\n",
      "0\n",
      "1\n",
      "1\n",
      "2\n",
      "3\n",
      "5\n",
      "8\n"
     ]
    }
   ],
   "source": [
    "fibonacci(7)"
   ]
  },
  {
   "cell_type": "code",
   "execution_count": null,
   "id": "b1f61cba",
   "metadata": {},
   "outputs": [],
   "source": [
    "4. Write a Python Program to Check Armstrong Number?"
   ]
  },
  {
   "cell_type": "code",
   "execution_count": 56,
   "id": "392bb41d",
   "metadata": {},
   "outputs": [],
   "source": [
    "\n",
    "def armstrong(num, order):\n",
    "    temp = num\n",
    "    sum1 = 0\n",
    "    while temp > 0:\n",
    "        r = temp % 10\n",
    "        sum1=sum1+(r**order)\n",
    "        temp=temp//10 \n",
    "    \n",
    "    return (num == sum1)\n"
   ]
  },
  {
   "cell_type": "code",
   "execution_count": 57,
   "id": "9a3c9faa",
   "metadata": {},
   "outputs": [
    {
     "name": "stdout",
     "output_type": "stream",
     "text": [
      "Number 120 is not Armstrong number\n"
     ]
    }
   ],
   "source": [
    "num = 120\n",
    "if armstrong(num, len(str(num))):\n",
    "    print(f'Number {num} is Armstrong number')\n",
    "else:\n",
    "    print(f'Number {num} is not Armstrong number')"
   ]
  },
  {
   "cell_type": "code",
   "execution_count": null,
   "id": "8765f0c1",
   "metadata": {},
   "outputs": [],
   "source": [
    "5. Write a Python Program to Find Armstrong Number in an Interval?"
   ]
  },
  {
   "cell_type": "code",
   "execution_count": 59,
   "id": "da091f71",
   "metadata": {},
   "outputs": [],
   "source": [
    "def armstrongList(lowerBound, upperBound ):\n",
    "    numList = []\n",
    "    for num in range(lowerBound, upperBound+1):\n",
    "        temp = num\n",
    "        order = len(str(num))\n",
    "        sum1 = 0\n",
    "        while temp > 0:\n",
    "            r = temp % 10\n",
    "            sum1=sum1+(r**order)\n",
    "            temp=temp//10 \n",
    "\n",
    "        if (sum1 == num):\n",
    "            numList.append(num)\n",
    "    return numList"
   ]
  },
  {
   "cell_type": "code",
   "execution_count": 62,
   "id": "a7c799f3",
   "metadata": {},
   "outputs": [
    {
     "data": {
      "text/plain": [
       "[153, 370, 371, 407, 1634, 8208, 9474]"
      ]
     },
     "execution_count": 62,
     "metadata": {},
     "output_type": "execute_result"
    }
   ],
   "source": [
    "armstrongList(100, 10000)"
   ]
  },
  {
   "cell_type": "raw",
   "id": "37401a7f",
   "metadata": {},
   "source": [
    "6. Write a Python Program to Find the Sum of Natural Numbers?"
   ]
  },
  {
   "cell_type": "code",
   "execution_count": 66,
   "id": "ee724472",
   "metadata": {},
   "outputs": [],
   "source": [
    "def sumNaturalNumber(num):\n",
    "    sum1= 0   \n",
    "    if(num<0):\n",
    "        print('Please enter positive number')\n",
    "    else:    \n",
    "        while num>0:\n",
    "            sum1=sum1+num\n",
    "            num = num -1\n",
    "    return sum1"
   ]
  },
  {
   "cell_type": "code",
   "execution_count": 67,
   "id": "1ec91de7",
   "metadata": {},
   "outputs": [
    {
     "data": {
      "text/plain": [
       "55"
      ]
     },
     "execution_count": 67,
     "metadata": {},
     "output_type": "execute_result"
    }
   ],
   "source": [
    "sumNaturalNumber(10)"
   ]
  },
  {
   "cell_type": "code",
   "execution_count": null,
   "id": "115ab24b",
   "metadata": {},
   "outputs": [],
   "source": []
  }
 ],
 "metadata": {
  "kernelspec": {
   "display_name": "Python 3 (ipykernel)",
   "language": "python",
   "name": "python3"
  },
  "language_info": {
   "codemirror_mode": {
    "name": "ipython",
    "version": 3
   },
   "file_extension": ".py",
   "mimetype": "text/x-python",
   "name": "python",
   "nbconvert_exporter": "python",
   "pygments_lexer": "ipython3",
   "version": "3.9.7"
  }
 },
 "nbformat": 4,
 "nbformat_minor": 5
}
