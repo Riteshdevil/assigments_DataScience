{
 "cells": [
  {
   "cell_type": "code",
   "execution_count": null,
   "id": "1da7ae8a",
   "metadata": {},
   "outputs": [],
   "source": [
    "#1. What exactly is []?\n",
    "Ans : [] is used to for list definition. \n",
    "    Eg listName = [1,2,3]\n"
   ]
  },
  {
   "cell_type": "code",
   "execution_count": null,
   "id": "50607da2",
   "metadata": {},
   "outputs": [],
   "source": [
    "#2. In a list of values stored in a variable called spam, how would you assign the value \"hello\" as the\n",
    "third value? (Assume [2, 4, 6, 8, 10] are in spam.)\n",
    "Ans : "
   ]
  },
  {
   "cell_type": "code",
   "execution_count": 3,
   "id": "34de09b0",
   "metadata": {},
   "outputs": [
    {
     "name": "stdout",
     "output_type": "stream",
     "text": [
      "[2, 4, 'Hello', 8, 10]\n"
     ]
    }
   ],
   "source": [
    "spam = [2, 4, 6, 8, 10]\n",
    "spam[2] = 'Hello'\n",
    "print(spam)"
   ]
  },
  {
   "cell_type": "code",
   "execution_count": null,
   "id": "e6c5c5e8",
   "metadata": {},
   "outputs": [],
   "source": [
    "#Let's pretend the spam includes the list ['a','b','c','d'] for the next three queries."
   ]
  },
  {
   "cell_type": "code",
   "execution_count": null,
   "id": "0136f23a",
   "metadata": {},
   "outputs": [],
   "source": [
    "#3. What is the value of spam[int(int('3' * 2) / 11)]?\n",
    "Ans : 'd'"
   ]
  },
  {
   "cell_type": "code",
   "execution_count": null,
   "id": "3ef3492c",
   "metadata": {},
   "outputs": [],
   "source": [
    "#4. What is the value of spam[-1]?\n",
    "Ans : 'd'"
   ]
  },
  {
   "cell_type": "code",
   "execution_count": null,
   "id": "0c18938b",
   "metadata": {},
   "outputs": [],
   "source": [
    "#5. What is the value of spam[:2]?\n",
    "Ans : ['a','b']"
   ]
  },
  {
   "cell_type": "code",
   "execution_count": null,
   "id": "a89141c0",
   "metadata": {},
   "outputs": [],
   "source": [
    "#Let's pretend bacon has the list [3.14, 'cat', 11, 'cat', True] for the next three questions."
   ]
  },
  {
   "cell_type": "code",
   "execution_count": null,
   "id": "b24a27d7",
   "metadata": {},
   "outputs": [],
   "source": [
    "#6. What is the value of bacon.index('cat')?\n",
    "Ans : 1"
   ]
  },
  {
   "cell_type": "code",
   "execution_count": null,
   "id": "9acba933",
   "metadata": {},
   "outputs": [],
   "source": [
    "#7. How does bacon.append(99) change the look of the list value in bacon?\n",
    "Ans : [3.14, 'cat', 11, 'cat', True, 99]"
   ]
  },
  {
   "cell_type": "code",
   "execution_count": null,
   "id": "7776cf58",
   "metadata": {},
   "outputs": [],
   "source": [
    "#8. How does bacon.remove('cat') change the look of the list in bacon?\n",
    "Ans : It will remove the first occurence of cat from list\n",
    "    [3.14, 11, 'cat', True, 99]"
   ]
  },
  {
   "cell_type": "code",
   "execution_count": null,
   "id": "1e354744",
   "metadata": {},
   "outputs": [],
   "source": [
    "#9. What are the list concatenation and list replication operators?\n",
    "Ans : List Concatenation can be done + operator. Concatenation is supported by same data types only\n",
    "    List replication can be done by * operator and it will make multiple copies of that object and combines them together. \n",
    "    "
   ]
  },
  {
   "cell_type": "code",
   "execution_count": null,
   "id": "17ceb4ca",
   "metadata": {},
   "outputs": [],
   "source": [
    "#10. What is difference between the list methods append() and insert()?\n",
    "Ans : Append function will add the element at the end only while insert can add element at any specific position"
   ]
  },
  {
   "cell_type": "code",
   "execution_count": null,
   "id": "5e7755a4",
   "metadata": {},
   "outputs": [],
   "source": [
    "#11. What are the two methods for removing items from a list?\n",
    "Ans : Remove and pop can be used for removing items from a list.\n",
    "    Remove will remove the first occurance of the element from the list while Pop will removes element from specific position specified.\n",
    "    Index position is optional in Pop if not specified it will remove the last element from the list"
   ]
  },
  {
   "cell_type": "code",
   "execution_count": null,
   "id": "fbe8694c",
   "metadata": {},
   "outputs": [],
   "source": [
    "#12. Describe how list values and string values are identical.\n",
    "Ans : List values and string values are identical as they both are sequences."
   ]
  },
  {
   "cell_type": "code",
   "execution_count": null,
   "id": "7c907a8b",
   "metadata": {},
   "outputs": [],
   "source": [
    "#13. What's the difference between tuples and lists?\n",
    "Ans : Tuples are immutable and Lists are mutable objects.\n",
    "    Memory management for tuples is better than lists as tuples consumes less memory than lists"
   ]
  },
  {
   "cell_type": "code",
   "execution_count": null,
   "id": "8ac2f065",
   "metadata": {},
   "outputs": [],
   "source": [
    "#14. How do you type a tuple value that only contains the integer 42?\n",
    "Ans : tupleExample = (42,)"
   ]
  },
  {
   "cell_type": "code",
   "execution_count": null,
   "id": "b5ed7f04",
   "metadata": {},
   "outputs": [],
   "source": [
    "#16. Variables that &quot;contain&quot; list values are not necessarily lists themselves. Instead, what do they\n",
    "contain?\n",
    "Ans : Variables will store the references of list values and not the direct values."
   ]
  },
  {
   "cell_type": "code",
   "execution_count": null,
   "id": "711f8588",
   "metadata": {},
   "outputs": [],
   "source": [
    "#17. How do you distinguish between copy.copy() and copy.deepcopy()?\n",
    "Ans : Copy means creating a new object and references are copied to the new object ,If values are changed then they reflect in the child object also..\n",
    "    In deep copy a new copy is constructed and data is recursively copied to new copy from original.If original data is changed it will not reflect data change to child / new object"
   ]
  }
 ],
 "metadata": {
  "kernelspec": {
   "display_name": "Python 3 (ipykernel)",
   "language": "python",
   "name": "python3"
  },
  "language_info": {
   "codemirror_mode": {
    "name": "ipython",
    "version": 3
   },
   "file_extension": ".py",
   "mimetype": "text/x-python",
   "name": "python",
   "nbconvert_exporter": "python",
   "pygments_lexer": "ipython3",
   "version": "3.9.7"
  }
 },
 "nbformat": 4,
 "nbformat_minor": 5
}
