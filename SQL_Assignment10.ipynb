{
 "cells": [
  {
   "cell_type": "code",
   "execution_count": null,
   "id": "75d62311",
   "metadata": {},
   "outputs": [],
   "source": [
    "#Q-19. Write an SQL query to determine the 5th highest salary without using TOP or limit\n",
    "method."
   ]
  },
  {
   "cell_type": "code",
   "execution_count": null,
   "id": "32481bc4",
   "metadata": {},
   "outputs": [],
   "source": [
    "select * from \n",
    "(\n",
    "select *, rank() over (order by salary desc) r from department\n",
    ") as t where t.r = 5"
   ]
  },
  {
   "cell_type": "code",
   "execution_count": null,
   "id": "fb084c52",
   "metadata": {},
   "outputs": [],
   "source": [
    "#Q-20. Write an SQL query to fetch the list of employees with the same salary."
   ]
  },
  {
   "cell_type": "code",
   "execution_count": null,
   "id": "05dbd836",
   "metadata": {},
   "outputs": [],
   "source": [
    "SELECT s1.name , s2.name, s1.salary, s2.salary  from Worker s1 inner join Worker s2 on s1.salary = s2.salary and s1.name <> s2.name "
   ]
  }
 ],
 "metadata": {
  "kernelspec": {
   "display_name": "Python 3 (ipykernel)",
   "language": "python",
   "name": "python3"
  },
  "language_info": {
   "codemirror_mode": {
    "name": "ipython",
    "version": 3
   },
   "file_extension": ".py",
   "mimetype": "text/x-python",
   "name": "python",
   "nbconvert_exporter": "python",
   "pygments_lexer": "ipython3",
   "version": "3.9.7"
  }
 },
 "nbformat": 4,
 "nbformat_minor": 5
}
