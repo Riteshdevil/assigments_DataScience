{
 "cells": [
  {
   "cell_type": "code",
   "execution_count": 1,
   "id": "6a188de4",
   "metadata": {},
   "outputs": [
    {
     "ename": "SyntaxError",
     "evalue": "invalid syntax (Temp/ipykernel_13384/3124974054.py, line 1)",
     "output_type": "error",
     "traceback": [
      "\u001b[1;36m  File \u001b[1;32m\"C:\\Users\\shree\\AppData\\Local\\Temp/ipykernel_13384/3124974054.py\"\u001b[1;36m, line \u001b[1;32m1\u001b[0m\n\u001b[1;33m    1. In the below elements which of them are values or an expression? eg:- values can be\u001b[0m\n\u001b[1;37m       ^\u001b[0m\n\u001b[1;31mSyntaxError\u001b[0m\u001b[1;31m:\u001b[0m invalid syntax\n"
     ]
    }
   ],
   "source": [
    "1. In the below elements which of them are values or an expression? eg:- values can be\n",
    "integer or string and expressions will be mathematical operators.\n",
    "* = Expression\n",
    "'hello' = value\n",
    "-87.8 = value\n",
    "- = expression\n",
    "/ = expression\n",
    "+ = expression\n",
    "6 = value"
   ]
  },
  {
   "cell_type": "code",
   "execution_count": null,
   "id": "9f37351b",
   "metadata": {},
   "outputs": [],
   "source": [
    "2. What is the difference between string and variable?\n",
    "Ans : Variable is a name to a location where its corresponding value is stored in memory.Variable can store integer, floating number , strings etc\n",
    "        String is a value stored inside a quotes. \n",
    "        Eg. a = 'Hello'\n",
    "        In above example a is variable which is storing value a string value called 'Hello'"
   ]
  },
  {
   "cell_type": "code",
   "execution_count": null,
   "id": "9777c585",
   "metadata": {},
   "outputs": [],
   "source": [
    "3. Describe three different data types.\n",
    "Ans : 1 - Integer: Int stores numeric data without fractional componenet Eg = 1,2,3,4,\n",
    "      2 - Float : Float stores integer data with fractional component Eg.: 1.2, 32.4\n",
    "      3 - String : String stores character type data in quotes. Eg. : 'Hi', 'India' etc\n",
    "      4 - Boolean : Boolean represents True and False and internally they are stored in 0 and 1 format\n"
   ]
  },
  {
   "cell_type": "code",
   "execution_count": null,
   "id": "045f2250",
   "metadata": {},
   "outputs": [],
   "source": [
    "4. What is an expression made up of? What do all expressions do?\n",
    "Ans. : Expressios are made up of operators , variables , values , method calling. Expresions are evaluated as per language rules.\n",
    "       "
   ]
  },
  {
   "cell_type": "code",
   "execution_count": null,
   "id": "268a4414",
   "metadata": {},
   "outputs": [],
   "source": [
    "5. This assignment statements, like spam = 10. What is the difference between an expression and a statement?\n",
    "Ans. : As expressions are combnation of values, variables, operators etc , they are executed and returns a value but statment are static they dont retuen any value to the the program. "
   ]
  },
  {
   "cell_type": "code",
   "execution_count": null,
   "id": "0bb7e0ee",
   "metadata": {},
   "outputs": [],
   "source": [
    "6.  After running the following code, what does the variable bacon contain?\n",
    "bacon = 22\n",
    "bacon + 1\n",
    "Ans.:  23"
   ]
  },
  {
   "cell_type": "code",
   "execution_count": null,
   "id": "eb1d182a",
   "metadata": {},
   "outputs": [],
   "source": [
    "7. What should the values of the following two terms be?\n",
    "    'spam'+'spamspam'\n",
    "    'spam' * 3\n",
    "Ans. : 'spam'+'spamspam' = 'spamspamspam'\n",
    "        'spam' * 3 = 'spamspamspam'"
   ]
  },
  {
   "cell_type": "code",
   "execution_count": null,
   "id": "6f64fa50",
   "metadata": {},
   "outputs": [],
   "source": [
    "8. Why is eggs a valid variable name while 100 is invalid?\n",
    "Ans. : Variable names can not start with a  number hence 100 can not be used as variable name and eggs is a valid name."
   ]
  },
  {
   "cell_type": "code",
   "execution_count": null,
   "id": "ec4cac64",
   "metadata": {},
   "outputs": [],
   "source": [
    "9. What three functions can be used to get the integer, floating-point number, or string\n",
    "version of a value?\n",
    "Ans. : Interger = int(argument)\n",
    "        Floating point number = float(argument)\n",
    "        string = str(argumnent)\n",
    "        \n",
    "        Pass values that needs to be converted at the place argumnent in method definition "
   ]
  },
  {
   "cell_type": "code",
   "execution_count": null,
   "id": "9dfbaa4f",
   "metadata": {},
   "outputs": [],
   "source": [
    "10 . 10. Why does this expression cause an error? How can you fix it?\n",
    "    'I have eaten' + 99 + 'buritos'\n",
    "Ans : While concating only string are allowed but in above expression 99 is passed as integer hence it will raise a TypeError exception"
   ]
  }
 ],
 "metadata": {
  "kernelspec": {
   "display_name": "Python 3 (ipykernel)",
   "language": "python",
   "name": "python3"
  },
  "language_info": {
   "codemirror_mode": {
    "name": "ipython",
    "version": 3
   },
   "file_extension": ".py",
   "mimetype": "text/x-python",
   "name": "python",
   "nbconvert_exporter": "python",
   "pygments_lexer": "ipython3",
   "version": "3.9.7"
  }
 },
 "nbformat": 4,
 "nbformat_minor": 5
}
