{
 "cells": [
  {
   "cell_type": "code",
   "execution_count": null,
   "id": "a6dc5c66",
   "metadata": {},
   "outputs": [],
   "source": [
    "#Q-1. Write an SQL query to print details of the Workers who have joined in Feb’2014."
   ]
  },
  {
   "cell_type": "code",
   "execution_count": null,
   "id": "3b514319",
   "metadata": {},
   "outputs": [],
   "source": [
    "SELECT * FROM Workers WHERE hire_data between '2014-02-01' and '2014-02-28'"
   ]
  },
  {
   "cell_type": "code",
   "execution_count": null,
   "id": "84fb3b11",
   "metadata": {},
   "outputs": [],
   "source": [
    "#Q-2. Write an SQL query to fetch duplicate records having matching data in some fields of\n",
    "a table."
   ]
  },
  {
   "cell_type": "code",
   "execution_count": null,
   "id": "0612feee",
   "metadata": {},
   "outputs": [],
   "source": [
    "select First_Name, current_location , count(*) from Worker group by First_name  , current_location having count(*) > 1 "
   ]
  },
  {
   "cell_type": "code",
   "execution_count": null,
   "id": "9ffa3ee7",
   "metadata": {},
   "outputs": [],
   "source": [
    "#Q-3. How to remove duplicate rows from Employees table."
   ]
  },
  {
   "cell_type": "code",
   "execution_count": null,
   "id": "54a945f1",
   "metadata": {},
   "outputs": [],
   "source": [
    "delete from emp where id not in (select * from (select max(id) as max_id from emp group by fullname) as t );"
   ]
  }
 ],
 "metadata": {
  "kernelspec": {
   "display_name": "Python 3 (ipykernel)",
   "language": "python",
   "name": "python3"
  },
  "language_info": {
   "codemirror_mode": {
    "name": "ipython",
    "version": 3
   },
   "file_extension": ".py",
   "mimetype": "text/x-python",
   "name": "python",
   "nbconvert_exporter": "python",
   "pygments_lexer": "ipython3",
   "version": "3.9.7"
  }
 },
 "nbformat": 4,
 "nbformat_minor": 5
}
