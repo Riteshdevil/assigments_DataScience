{
 "cells": [
  {
   "cell_type": "code",
   "execution_count": null,
   "id": "10be9e3b",
   "metadata": {},
   "outputs": [],
   "source": [
    "#Q-1. Write an SQL query to print the first three characters of  FIRST_NAME from Worker\n",
    "table."
   ]
  },
  {
   "cell_type": "code",
   "execution_count": null,
   "id": "1edf7b2f",
   "metadata": {},
   "outputs": [],
   "source": [
    "SELECT left(FIRST_NAME,3) from Worker"
   ]
  },
  {
   "cell_type": "code",
   "execution_count": null,
   "id": "8892fb21",
   "metadata": {},
   "outputs": [],
   "source": [
    "#Q-2. Write an SQL query to find the position of the alphabet (‘a’) in the first name\n",
    "column ‘Amitabh’ from Worker table."
   ]
  },
  {
   "cell_type": "code",
   "execution_count": null,
   "id": "ada13ae9",
   "metadata": {},
   "outputs": [],
   "source": [
    "SELECT position('a' IN  FIRST_NAME) from  WORKER where FIRST_NAME = 'Amitabh' "
   ]
  },
  {
   "cell_type": "code",
   "execution_count": null,
   "id": "645430ca",
   "metadata": {},
   "outputs": [],
   "source": [
    "#Q-3. Write an SQL query to print the name of employees having the highest salary in each\n",
    "department."
   ]
  },
  {
   "cell_type": "code",
   "execution_count": null,
   "id": "f60b1767",
   "metadata": {},
   "outputs": [],
   "source": [
    "SELECT FIRST_NAME,max(SALARY) as MAX_SALARY from Worker group by DEPARTMENT;"
   ]
  }
 ],
 "metadata": {
  "kernelspec": {
   "display_name": "Python 3 (ipykernel)",
   "language": "python",
   "name": "python3"
  },
  "language_info": {
   "codemirror_mode": {
    "name": "ipython",
    "version": 3
   },
   "file_extension": ".py",
   "mimetype": "text/x-python",
   "name": "python",
   "nbconvert_exporter": "python",
   "pygments_lexer": "ipython3",
   "version": "3.9.7"
  }
 },
 "nbformat": 4,
 "nbformat_minor": 5
}
