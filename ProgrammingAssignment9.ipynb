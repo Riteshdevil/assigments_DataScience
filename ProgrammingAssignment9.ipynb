{
 "cells": [
  {
   "cell_type": "code",
   "execution_count": null,
   "id": "2d314e9b",
   "metadata": {},
   "outputs": [],
   "source": [
    "#1. Write a Python program to check if the given number is a Disarium Number?"
   ]
  },
  {
   "cell_type": "code",
   "execution_count": 18,
   "id": "6af63ec8",
   "metadata": {},
   "outputs": [],
   "source": [
    "import math\n",
    "def checkDisarium(number):\n",
    "    count_digits = len(str(number))\n",
    "    temp = number\n",
    "    sum1 = 0\n",
    "    while temp!=0:\n",
    "        r = temp % 10\n",
    "        sum1 += math.pow(r, count_digits)\n",
    "        count_digits = count_digits - 1\n",
    "        temp = temp//10\n",
    "    return (int(sum1) == number)"
   ]
  },
  {
   "cell_type": "code",
   "execution_count": 23,
   "id": "e0bb1292",
   "metadata": {},
   "outputs": [
    {
     "name": "stdout",
     "output_type": "stream",
     "text": [
      "Given number is not Disarium\n"
     ]
    }
   ],
   "source": [
    "if checkDisarium(80):\n",
    "    print('Given number is Disarium')\n",
    "else:\n",
    "    print('Given number is not Disarium')\n"
   ]
  },
  {
   "cell_type": "code",
   "execution_count": null,
   "id": "e286d8b9",
   "metadata": {},
   "outputs": [],
   "source": [
    "#2. Write a Python program to print all disarium numbers between 1 to 100?"
   ]
  },
  {
   "cell_type": "code",
   "execution_count": 24,
   "id": "49bef4c1",
   "metadata": {},
   "outputs": [],
   "source": [
    "def PrintDisarium():\n",
    "    for i in range(1, 100+1):\n",
    "       if checkDisarium(i):\n",
    "        print(i)"
   ]
  },
  {
   "cell_type": "code",
   "execution_count": 25,
   "id": "ae4c0434",
   "metadata": {},
   "outputs": [
    {
     "name": "stdout",
     "output_type": "stream",
     "text": [
      "1\n",
      "2\n",
      "3\n",
      "4\n",
      "5\n",
      "6\n",
      "7\n",
      "8\n",
      "9\n",
      "89\n"
     ]
    }
   ],
   "source": [
    "PrintDisarium()"
   ]
  },
  {
   "cell_type": "code",
   "execution_count": null,
   "id": "3090d6dd",
   "metadata": {},
   "outputs": [],
   "source": [
    "#3. Write a Python program to check if the given number is Happy Number?"
   ]
  },
  {
   "cell_type": "code",
   "execution_count": 9,
   "id": "11be6bea",
   "metadata": {},
   "outputs": [],
   "source": [
    "def isHappyNumber(number):\n",
    "   # print(number)\n",
    "    n=number\n",
    "    r=s=0\n",
    "    while n>0:\n",
    "        r = n % 10\n",
    "        s+=r**2\n",
    "        n=n//10\n",
    "    return s"
   ]
  },
  {
   "cell_type": "code",
   "execution_count": 13,
   "id": "4c8db5ed",
   "metadata": {},
   "outputs": [],
   "source": [
    "def checkHappyNumber():\n",
    "    num = 10\n",
    "    res = num\n",
    "    while(res!=1):\n",
    "        res = isHappyNumber(res)\n",
    "\n",
    "    if res == 1:\n",
    "        print(f'{num} is Happy Number')\n",
    "    else:\n",
    "        print(f'{num} is not Happy Number')"
   ]
  },
  {
   "cell_type": "code",
   "execution_count": 14,
   "id": "a90e1e7d",
   "metadata": {},
   "outputs": [
    {
     "name": "stdout",
     "output_type": "stream",
     "text": [
      "10 is Happy Number\n"
     ]
    }
   ],
   "source": [
    "checkHappyNumber()"
   ]
  },
  {
   "cell_type": "code",
   "execution_count": null,
   "id": "b654345e",
   "metadata": {},
   "outputs": [],
   "source": [
    "#5. Write a Python program to determine whether the given number is a Harshad Number?"
   ]
  },
  {
   "cell_type": "code",
   "execution_count": 23,
   "id": "f8bb3cc6",
   "metadata": {},
   "outputs": [],
   "source": [
    "def isHarshadNumber(number):\n",
    "    n = number\n",
    "    r = sum1 = 0\n",
    "    while n>0:\n",
    "        r = n % 10\n",
    "        sum1 += r\n",
    "        n = n // 10\n",
    "        \n",
    "    if number%sum1==0:\n",
    "        return True\n",
    "    else:\n",
    "        return False"
   ]
  },
  {
   "cell_type": "code",
   "execution_count": 24,
   "id": "5c7fdeb1",
   "metadata": {},
   "outputs": [
    {
     "name": "stdout",
     "output_type": "stream",
     "text": [
      "Given is not a Happy number\n"
     ]
    }
   ],
   "source": [
    "if isHarshadNumber(16):\n",
    "    print('Given is a Happy number')\n",
    "else:\n",
    "    print('Given is not a Happy number')"
   ]
  },
  {
   "cell_type": "code",
   "execution_count": null,
   "id": "dc922930",
   "metadata": {},
   "outputs": [],
   "source": [
    "#6. Write a Python program to print all pronic numbers between 1 and 100?"
   ]
  },
  {
   "cell_type": "code",
   "execution_count": 29,
   "id": "2ffd862d",
   "metadata": {},
   "outputs": [],
   "source": [
    "def checPronicNumber(number):\n",
    "    flag = False\n",
    "    for i in range(1, number+1):\n",
    "        if (i*(i+1))==number:\n",
    "            flag= True;\n",
    "            break\n",
    "    return flag"
   ]
  },
  {
   "cell_type": "code",
   "execution_count": 30,
   "id": "5097d9aa",
   "metadata": {},
   "outputs": [
    {
     "name": "stdout",
     "output_type": "stream",
     "text": [
      "2\n",
      "6\n",
      "12\n",
      "20\n",
      "30\n",
      "42\n",
      "56\n",
      "72\n",
      "90\n"
     ]
    }
   ],
   "source": [
    "for i in range(1, 101):\n",
    "    if checPronicNumber(i):\n",
    "        print(i)"
   ]
  },
  {
   "cell_type": "code",
   "execution_count": null,
   "id": "a87026e4",
   "metadata": {},
   "outputs": [],
   "source": []
  }
 ],
 "metadata": {
  "kernelspec": {
   "display_name": "Python 3 (ipykernel)",
   "language": "python",
   "name": "python3"
  },
  "language_info": {
   "codemirror_mode": {
    "name": "ipython",
    "version": 3
   },
   "file_extension": ".py",
   "mimetype": "text/x-python",
   "name": "python",
   "nbconvert_exporter": "python",
   "pygments_lexer": "ipython3",
   "version": "3.9.7"
  }
 },
 "nbformat": 4,
 "nbformat_minor": 5
}
